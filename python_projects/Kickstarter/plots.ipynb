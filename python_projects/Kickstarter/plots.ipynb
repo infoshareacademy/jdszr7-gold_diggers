{
 "cells": [
  {
   "cell_type": "markdown",
   "metadata": {},
   "source": [
    "# W którym kraju jaka kategoria jest najbardziej popularna i dochodowa"
   ]
  },
  {
   "cell_type": "code",
   "execution_count": 40,
   "metadata": {},
   "outputs": [],
   "source": [
    "import pandas as pd\n",
    "import matplotlib as plt\n",
    "import seaborn as sns\n",
    "#import project_code as pc"
   ]
  },
  {
   "cell_type": "code",
   "execution_count": 41,
   "metadata": {},
   "outputs": [],
   "source": [
    "df_clean = pc.f_file_import('df_clean.csv')"
   ]
  },
  {
   "cell_type": "markdown",
   "metadata": {},
   "source": [
    "***"
   ]
  },
  {
   "cell_type": "code",
   "execution_count": 42,
   "metadata": {},
   "outputs": [],
   "source": [
    "# Stworzenie zagregowanych tabeli:"
   ]
  },
  {
   "cell_type": "code",
   "execution_count": 43,
   "metadata": {},
   "outputs": [
    {
     "data": {
      "text/html": [
       "<div>\n",
       "<style scoped>\n",
       "    .dataframe tbody tr th:only-of-type {\n",
       "        vertical-align: middle;\n",
       "    }\n",
       "\n",
       "    .dataframe tbody tr th {\n",
       "        vertical-align: top;\n",
       "    }\n",
       "\n",
       "    .dataframe thead th {\n",
       "        text-align: right;\n",
       "    }\n",
       "</style>\n",
       "<table border=\"1\" class=\"dataframe\">\n",
       "  <thead>\n",
       "    <tr style=\"text-align: right;\">\n",
       "      <th></th>\n",
       "      <th>index</th>\n",
       "      <th>country</th>\n",
       "      <th>state</th>\n",
       "      <th>count</th>\n",
       "      <th>sum</th>\n",
       "      <th>mean</th>\n",
       "    </tr>\n",
       "  </thead>\n",
       "  <tbody>\n",
       "    <tr>\n",
       "      <th>0</th>\n",
       "      <td>8</td>\n",
       "      <td>CH</td>\n",
       "      <td>failed</td>\n",
       "      <td>465</td>\n",
       "      <td>1.960094e+08</td>\n",
       "      <td>421525.553312</td>\n",
       "    </tr>\n",
       "    <tr>\n",
       "      <th>1</th>\n",
       "      <td>16</td>\n",
       "      <td>FR</td>\n",
       "      <td>failed</td>\n",
       "      <td>1612</td>\n",
       "      <td>2.119308e+08</td>\n",
       "      <td>131470.710974</td>\n",
       "    </tr>\n",
       "    <tr>\n",
       "      <th>2</th>\n",
       "      <td>10</td>\n",
       "      <td>DE</td>\n",
       "      <td>failed</td>\n",
       "      <td>2499</td>\n",
       "      <td>2.536111e+08</td>\n",
       "      <td>101485.045966</td>\n",
       "    </tr>\n",
       "    <tr>\n",
       "      <th>3</th>\n",
       "      <td>24</td>\n",
       "      <td>IT</td>\n",
       "      <td>failed</td>\n",
       "      <td>1930</td>\n",
       "      <td>1.912716e+08</td>\n",
       "      <td>99104.481746</td>\n",
       "    </tr>\n",
       "    <tr>\n",
       "      <th>4</th>\n",
       "      <td>32</td>\n",
       "      <td>NL</td>\n",
       "      <td>failed</td>\n",
       "      <td>1794</td>\n",
       "      <td>1.613765e+08</td>\n",
       "      <td>89953.460708</td>\n",
       "    </tr>\n",
       "  </tbody>\n",
       "</table>\n",
       "</div>"
      ],
      "text/plain": [
       "   index country   state  count           sum           mean\n",
       "0      8      CH  failed    465  1.960094e+08  421525.553312\n",
       "1     16      FR  failed   1612  2.119308e+08  131470.710974\n",
       "2     10      DE  failed   2499  2.536111e+08  101485.045966\n",
       "3     24      IT  failed   1930  1.912716e+08   99104.481746\n",
       "4     32      NL  failed   1794  1.613765e+08   89953.460708"
      ]
     },
     "execution_count": 43,
     "metadata": {},
     "output_type": "execute_result"
    }
   ],
   "source": [
    "country_state_usd_goal_real_df = pc.aggregate_fun(df_clean, ['country','state'], 'usd_goal_real')\n",
    "pc.sorting_values(country_state_usd_goal_real_df).head()"
   ]
  },
  {
   "cell_type": "code",
   "execution_count": 44,
   "metadata": {},
   "outputs": [
    {
     "data": {
      "text/html": [
       "<div>\n",
       "<style scoped>\n",
       "    .dataframe tbody tr th:only-of-type {\n",
       "        vertical-align: middle;\n",
       "    }\n",
       "\n",
       "    .dataframe tbody tr th {\n",
       "        vertical-align: top;\n",
       "    }\n",
       "\n",
       "    .dataframe thead th {\n",
       "        text-align: right;\n",
       "    }\n",
       "</style>\n",
       "<table border=\"1\" class=\"dataframe\">\n",
       "  <thead>\n",
       "    <tr style=\"text-align: right;\">\n",
       "      <th></th>\n",
       "      <th>country</th>\n",
       "      <th>state</th>\n",
       "      <th>count</th>\n",
       "      <th>sum</th>\n",
       "      <th>mean</th>\n",
       "    </tr>\n",
       "  </thead>\n",
       "  <tbody>\n",
       "    <tr>\n",
       "      <th>0</th>\n",
       "      <td>AT</td>\n",
       "      <td>failed</td>\n",
       "      <td>378</td>\n",
       "      <td>600429.16</td>\n",
       "      <td>1588.436931</td>\n",
       "    </tr>\n",
       "    <tr>\n",
       "      <th>1</th>\n",
       "      <td>AT</td>\n",
       "      <td>successful</td>\n",
       "      <td>107</td>\n",
       "      <td>8551657.31</td>\n",
       "      <td>79922.030935</td>\n",
       "    </tr>\n",
       "    <tr>\n",
       "      <th>2</th>\n",
       "      <td>AU</td>\n",
       "      <td>failed</td>\n",
       "      <td>4606</td>\n",
       "      <td>5384556.90</td>\n",
       "      <td>1169.031025</td>\n",
       "    </tr>\n",
       "    <tr>\n",
       "      <th>3</th>\n",
       "      <td>AU</td>\n",
       "      <td>successful</td>\n",
       "      <td>2010</td>\n",
       "      <td>37703715.97</td>\n",
       "      <td>18758.067647</td>\n",
       "    </tr>\n",
       "    <tr>\n",
       "      <th>4</th>\n",
       "      <td>BE</td>\n",
       "      <td>failed</td>\n",
       "      <td>371</td>\n",
       "      <td>360382.29</td>\n",
       "      <td>971.380836</td>\n",
       "    </tr>\n",
       "  </tbody>\n",
       "</table>\n",
       "</div>"
      ],
      "text/plain": [
       "  country       state  count          sum          mean\n",
       "0      AT      failed    378    600429.16   1588.436931\n",
       "1      AT  successful    107   8551657.31  79922.030935\n",
       "2      AU      failed   4606   5384556.90   1169.031025\n",
       "3      AU  successful   2010  37703715.97  18758.067647\n",
       "4      BE      failed    371    360382.29    971.380836"
      ]
     },
     "execution_count": 44,
     "metadata": {},
     "output_type": "execute_result"
    }
   ],
   "source": [
    "country_state_usd_pledged_real_df = pc.aggregate_fun(df_clean, ['country','state'], 'usd_pledged_real')\n",
    "country_state_usd_pledged_real_df.head()"
   ]
  },
  {
   "cell_type": "markdown",
   "metadata": {},
   "source": [
    "***"
   ]
  },
  {
   "cell_type": "code",
   "execution_count": 45,
   "metadata": {},
   "outputs": [],
   "source": [
    "#definicja development\n",
    "#funkcja wykres słupkowy - liczebność - jedna zmienna\n",
    "def f_barplot_1_var(name, var:str, size:tuple = (10,6)):\n",
    "    name.groupby(var)[var].count().sort_values(ascending = False).plot(kind = 'bar', figsize = size);"
   ]
  },
  {
   "cell_type": "code",
   "execution_count": 46,
   "metadata": {},
   "outputs": [],
   "source": [
    "#definicja development\n",
    "#funkcja agregująca dane do nowego DF\n",
    "def aggregate_fun(df, agg_list:list, measure:str):\n",
    "    agg_df = df.groupby(agg_list)[measure].agg(['count',sum,'mean']).reset_index()\n",
    "    return agg_df\n",
    "    #['country','main_category'] 'usd_pledged_real'"
   ]
  },
  {
   "cell_type": "code",
   "execution_count": 47,
   "metadata": {},
   "outputs": [],
   "source": [
    "#definicja development\n",
    "#funkcja sortująca\n",
    "def sorting_values(df_agg, value_by:str = 'mean', sorting_var:bool = False):\n",
    "    return df_agg.sort_values(by =value_by, ascending= sorting_var).reset_index()"
   ]
  },
  {
   "cell_type": "code",
   "execution_count": 48,
   "metadata": {},
   "outputs": [
    {
     "data": {
      "text/html": [
       "<div>\n",
       "<style scoped>\n",
       "    .dataframe tbody tr th:only-of-type {\n",
       "        vertical-align: middle;\n",
       "    }\n",
       "\n",
       "    .dataframe tbody tr th {\n",
       "        vertical-align: top;\n",
       "    }\n",
       "\n",
       "    .dataframe thead th {\n",
       "        text-align: right;\n",
       "    }\n",
       "</style>\n",
       "<table border=\"1\" class=\"dataframe\">\n",
       "  <thead>\n",
       "    <tr style=\"text-align: right;\">\n",
       "      <th></th>\n",
       "      <th>index</th>\n",
       "      <th>country</th>\n",
       "      <th>state</th>\n",
       "      <th>count</th>\n",
       "      <th>sum</th>\n",
       "      <th>mean</th>\n",
       "    </tr>\n",
       "  </thead>\n",
       "  <tbody>\n",
       "    <tr>\n",
       "      <th>0</th>\n",
       "      <td>1</td>\n",
       "      <td>AT</td>\n",
       "      <td>successful</td>\n",
       "      <td>107</td>\n",
       "      <td>8551657.31</td>\n",
       "      <td>79922.030935</td>\n",
       "    </tr>\n",
       "    <tr>\n",
       "      <th>1</th>\n",
       "      <td>9</td>\n",
       "      <td>CH</td>\n",
       "      <td>successful</td>\n",
       "      <td>187</td>\n",
       "      <td>11278747.18</td>\n",
       "      <td>60314.156043</td>\n",
       "    </tr>\n",
       "    <tr>\n",
       "      <th>2</th>\n",
       "      <td>33</td>\n",
       "      <td>NL</td>\n",
       "      <td>successful</td>\n",
       "      <td>617</td>\n",
       "      <td>25057975.04</td>\n",
       "      <td>40612.601361</td>\n",
       "    </tr>\n",
       "    <tr>\n",
       "      <th>3</th>\n",
       "      <td>21</td>\n",
       "      <td>HK</td>\n",
       "      <td>successful</td>\n",
       "      <td>216</td>\n",
       "      <td>8650421.43</td>\n",
       "      <td>40048.247361</td>\n",
       "    </tr>\n",
       "    <tr>\n",
       "      <th>4</th>\n",
       "      <td>11</td>\n",
       "      <td>DE</td>\n",
       "      <td>successful</td>\n",
       "      <td>937</td>\n",
       "      <td>33582266.36</td>\n",
       "      <td>35840.198890</td>\n",
       "    </tr>\n",
       "  </tbody>\n",
       "</table>\n",
       "</div>"
      ],
      "text/plain": [
       "   index country       state  count          sum          mean\n",
       "0      1      AT  successful    107   8551657.31  79922.030935\n",
       "1      9      CH  successful    187  11278747.18  60314.156043\n",
       "2     33      NL  successful    617  25057975.04  40612.601361\n",
       "3     21      HK  successful    216   8650421.43  40048.247361\n",
       "4     11      DE  successful    937  33582266.36  35840.198890"
      ]
     },
     "execution_count": 48,
     "metadata": {},
     "output_type": "execute_result"
    }
   ],
   "source": [
    "#Przypisanie do zmiennej\n",
    "df_agg = sorting_values(country_state_usd_pledged_real_df)\n",
    "df_agg.head()"
   ]
  },
  {
   "cell_type": "code",
   "execution_count": 49,
   "metadata": {},
   "outputs": [],
   "source": [
    "#definicja development\n",
    "#funkcja wykres słupkowy - liczebność - dwie zmienne - col x\n",
    "def barplot_2var(df, var1:str, var2:str, measure, height_value:float = 4):\n",
    "    sns.catplot(data = df, col = var1 , x = var2, y = measure , kind = 'bar', height = height_value);\n",
    "    #'country' 'main_category' 'count'"
   ]
  },
  {
   "cell_type": "code",
   "execution_count": 50,
   "metadata": {},
   "outputs": [],
   "source": [
    "#definicja development\n",
    "#funkcja wykres słupkowy - średnia - dwie zmienne\n",
    "# var1 - zmienna grupująca, var2 - zmienna grupowana\n",
    "def f_barplot_2_var_mean(name, var1:str, var2:str, size:tuple = (10,6)):\n",
    "    name.groupby(var1)[var2].mean().sort_values(ascending=False).plot(kind='bar', figsize = size);"
   ]
  },
  {
   "cell_type": "code",
   "execution_count": null,
   "metadata": {},
   "outputs": [],
   "source": []
  },
  {
   "cell_type": "markdown",
   "metadata": {},
   "source": [
    "### Kraje"
   ]
  },
  {
   "cell_type": "code",
   "execution_count": 51,
   "metadata": {},
   "outputs": [
    {
     "data": {
      "image/png": "[encoded data removed]",
      "text/plain": [
       "<Figure size 720x432 with 1 Axes>"
      ]
     },
     "metadata": {
      "needs_background": "light"
     },
     "output_type": "display_data"
    }
   ],
   "source": [
    "country_count = f_barplot_1_var(df_clean, 'country')"
   ]
  },
  {
   "cell_type": "markdown",
   "metadata": {},
   "source": [
    "### Kategoria Główna"
   ]
  },
  {
   "cell_type": "code",
   "execution_count": 52,
   "metadata": {},
   "outputs": [
    {
     "data": {
      "image/png": "[encoded data removed]",
      "text/plain": [
       "<Figure size 720x432 with 1 Axes>"
      ]
     },
     "metadata": {
      "needs_background": "light"
     },
     "output_type": "display_data"
    }
   ],
   "source": [
    "main_category_count = f_barplot_1_var(df_clean, 'main_category')"
   ]
  },
  {
   "cell_type": "markdown",
   "metadata": {},
   "source": [
    "### Statusy"
   ]
  },
  {
   "cell_type": "code",
   "execution_count": 53,
   "metadata": {},
   "outputs": [
    {
     "data": {
      "image/png": "[encoded data removed]",
      "text/plain": [
       "<Figure size 720x432 with 1 Axes>"
      ]
     },
     "metadata": {
      "needs_background": "light"
     },
     "output_type": "display_data"
    }
   ],
   "source": [
    "state_count = f_barplot_1_var(df_clean, 'state')"
   ]
  },
  {
   "cell_type": "code",
   "execution_count": 54,
   "metadata": {},
   "outputs": [
    {
     "data": {
      "image/png": "[encoded data removed]",
      "text/plain": [
       "<Figure size 1152x576 with 2 Axes>"
      ]
     },
     "metadata": {
      "needs_background": "light"
     },
     "output_type": "display_data"
    }
   ],
   "source": [
    "#średnia kwota celu w poszczególnych krajach w podziale na udane i nieudane projekty\n",
    "barplot_2var(country_state_usd_goal_real_df, 'state', 'country', 'mean', 8)"
   ]
  },
  {
   "cell_type": "code",
   "execution_count": 55,
   "metadata": {},
   "outputs": [
    {
     "data": {
      "image/png": "[encoded data removed]",
      "text/plain": [
       "<Figure size 576x288 with 2 Axes>"
      ]
     },
     "metadata": {
      "needs_background": "light"
     },
     "output_type": "display_data"
    }
   ],
   "source": [
    "#średnia uzbierana kwota w poszczególnych krajach w podziale na udane i nieudane projekty\n",
    "barplot_2var(country_state_usd_pledged_real_df, 'state', 'country', 'mean')"
   ]
  },
  {
   "cell_type": "code",
   "execution_count": null,
   "metadata": {},
   "outputs": [],
   "source": []
  }
 ],
 "metadata": {
  "kernelspec": {
   "display_name": "Python 3.9.7 ('base')",
   "language": "python",
   "name": "python3"
  },
  "language_info": {
   "codemirror_mode": {
    "name": "ipython",
    "version": 3
   },
   "file_extension": ".py",
   "mimetype": "text/x-python",
   "name": "python",
   "nbconvert_exporter": "python",
   "pygments_lexer": "ipython3",
   "version": "3.9.7"
  },
  "orig_nbformat": 4,
  "vscode": {
   "interpreter": {
    "hash": "93c7e1e063798a6de42037f0782001919b4b557aa05eacf77af046aa0ce92cdf"
   }
  }
 },
 "nbformat": 4,
 "nbformat_minor": 2
}
