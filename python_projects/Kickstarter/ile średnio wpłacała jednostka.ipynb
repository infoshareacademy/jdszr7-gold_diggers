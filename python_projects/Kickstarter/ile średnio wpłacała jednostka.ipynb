{
 "cells": [
  {
   "cell_type": "code",
   "execution_count": 2,
   "id": "82b118e4",
   "metadata": {},
   "outputs": [],
   "source": [
    "import pandas as pd"
   ]
  },
  {
   "cell_type": "code",
   "execution_count": 5,
   "id": "ed2bd971",
   "metadata": {},
   "outputs": [],
   "source": [
    "df = pd.read_csv('df_clean.csv')"
   ]
  },
  {
   "cell_type": "code",
   "execution_count": 7,
   "id": "9f3d279f",
   "metadata": {},
   "outputs": [
    {
     "data": {
      "text/html": [
       "<div>\n",
       "<style scoped>\n",
       "    .dataframe tbody tr th:only-of-type {\n",
       "        vertical-align: middle;\n",
       "    }\n",
       "\n",
       "    .dataframe tbody tr th {\n",
       "        vertical-align: top;\n",
       "    }\n",
       "\n",
       "    .dataframe thead th {\n",
       "        text-align: right;\n",
       "    }\n",
       "</style>\n",
       "<table border=\"1\" class=\"dataframe\">\n",
       "  <thead>\n",
       "    <tr style=\"text-align: right;\">\n",
       "      <th></th>\n",
       "      <th>ID</th>\n",
       "      <th>name</th>\n",
       "      <th>category</th>\n",
       "      <th>main_category</th>\n",
       "      <th>currency</th>\n",
       "      <th>deadline</th>\n",
       "      <th>launched</th>\n",
       "      <th>state</th>\n",
       "      <th>backers</th>\n",
       "      <th>country</th>\n",
       "      <th>usd_pledged_real</th>\n",
       "      <th>usd_goal_real</th>\n",
       "      <th>launched_month</th>\n",
       "      <th>launched_year</th>\n",
       "    </tr>\n",
       "  </thead>\n",
       "  <tbody>\n",
       "    <tr>\n",
       "      <th>0</th>\n",
       "      <td>1000002330</td>\n",
       "      <td>The Songs of Adelaide &amp; Abullah</td>\n",
       "      <td>Poetry</td>\n",
       "      <td>Publishing</td>\n",
       "      <td>GBP</td>\n",
       "      <td>2015-10-09</td>\n",
       "      <td>2015-08-11 12:12:28</td>\n",
       "      <td>failed</td>\n",
       "      <td>0</td>\n",
       "      <td>GB</td>\n",
       "      <td>0.0</td>\n",
       "      <td>1533.95</td>\n",
       "      <td>8</td>\n",
       "      <td>2015</td>\n",
       "    </tr>\n",
       "    <tr>\n",
       "      <th>1</th>\n",
       "      <td>1000003930</td>\n",
       "      <td>Greeting From Earth: ZGAC Arts Capsule For ET</td>\n",
       "      <td>Narrative Film</td>\n",
       "      <td>Film &amp; Video</td>\n",
       "      <td>USD</td>\n",
       "      <td>2017-11-01</td>\n",
       "      <td>2017-09-02 04:43:57</td>\n",
       "      <td>failed</td>\n",
       "      <td>15</td>\n",
       "      <td>US</td>\n",
       "      <td>2421.0</td>\n",
       "      <td>30000.00</td>\n",
       "      <td>9</td>\n",
       "      <td>2017</td>\n",
       "    </tr>\n",
       "    <tr>\n",
       "      <th>2</th>\n",
       "      <td>1000004038</td>\n",
       "      <td>Where is Hank?</td>\n",
       "      <td>Narrative Film</td>\n",
       "      <td>Film &amp; Video</td>\n",
       "      <td>USD</td>\n",
       "      <td>2013-02-26</td>\n",
       "      <td>2013-01-12 00:20:50</td>\n",
       "      <td>failed</td>\n",
       "      <td>3</td>\n",
       "      <td>US</td>\n",
       "      <td>220.0</td>\n",
       "      <td>45000.00</td>\n",
       "      <td>1</td>\n",
       "      <td>2013</td>\n",
       "    </tr>\n",
       "    <tr>\n",
       "      <th>3</th>\n",
       "      <td>1000007540</td>\n",
       "      <td>ToshiCapital Rekordz Needs Help to Complete Album</td>\n",
       "      <td>Music</td>\n",
       "      <td>Music</td>\n",
       "      <td>USD</td>\n",
       "      <td>2012-04-16</td>\n",
       "      <td>2012-03-17 03:24:11</td>\n",
       "      <td>failed</td>\n",
       "      <td>1</td>\n",
       "      <td>US</td>\n",
       "      <td>1.0</td>\n",
       "      <td>5000.00</td>\n",
       "      <td>3</td>\n",
       "      <td>2012</td>\n",
       "    </tr>\n",
       "    <tr>\n",
       "      <th>4</th>\n",
       "      <td>1000014025</td>\n",
       "      <td>Monarch Espresso Bar</td>\n",
       "      <td>Restaurants</td>\n",
       "      <td>Food</td>\n",
       "      <td>USD</td>\n",
       "      <td>2016-04-01</td>\n",
       "      <td>2016-02-26 13:38:27</td>\n",
       "      <td>successful</td>\n",
       "      <td>224</td>\n",
       "      <td>US</td>\n",
       "      <td>52375.0</td>\n",
       "      <td>50000.00</td>\n",
       "      <td>2</td>\n",
       "      <td>2016</td>\n",
       "    </tr>\n",
       "    <tr>\n",
       "      <th>5</th>\n",
       "      <td>1000023410</td>\n",
       "      <td>Support Solar Roasted Coffee &amp; Green Energy!  ...</td>\n",
       "      <td>Food</td>\n",
       "      <td>Food</td>\n",
       "      <td>USD</td>\n",
       "      <td>2014-12-21</td>\n",
       "      <td>2014-12-01 18:30:44</td>\n",
       "      <td>successful</td>\n",
       "      <td>16</td>\n",
       "      <td>US</td>\n",
       "      <td>1205.0</td>\n",
       "      <td>1000.00</td>\n",
       "      <td>12</td>\n",
       "      <td>2014</td>\n",
       "    </tr>\n",
       "    <tr>\n",
       "      <th>6</th>\n",
       "      <td>1000030581</td>\n",
       "      <td>Chaser Strips. Our Strips make Shots their B*tch!</td>\n",
       "      <td>Drinks</td>\n",
       "      <td>Food</td>\n",
       "      <td>USD</td>\n",
       "      <td>2016-03-17</td>\n",
       "      <td>2016-02-01 20:05:12</td>\n",
       "      <td>failed</td>\n",
       "      <td>40</td>\n",
       "      <td>US</td>\n",
       "      <td>453.0</td>\n",
       "      <td>25000.00</td>\n",
       "      <td>2</td>\n",
       "      <td>2016</td>\n",
       "    </tr>\n",
       "    <tr>\n",
       "      <th>7</th>\n",
       "      <td>100004721</td>\n",
       "      <td>Of Jesus and Madmen</td>\n",
       "      <td>Nonfiction</td>\n",
       "      <td>Publishing</td>\n",
       "      <td>CAD</td>\n",
       "      <td>2013-10-09</td>\n",
       "      <td>2013-09-09 18:19:37</td>\n",
       "      <td>failed</td>\n",
       "      <td>0</td>\n",
       "      <td>CA</td>\n",
       "      <td>0.0</td>\n",
       "      <td>2406.39</td>\n",
       "      <td>9</td>\n",
       "      <td>2013</td>\n",
       "    </tr>\n",
       "    <tr>\n",
       "      <th>8</th>\n",
       "      <td>100005484</td>\n",
       "      <td>Lisa Lim New CD!</td>\n",
       "      <td>Indie Rock</td>\n",
       "      <td>Music</td>\n",
       "      <td>USD</td>\n",
       "      <td>2013-04-08</td>\n",
       "      <td>2013-03-09 06:42:58</td>\n",
       "      <td>successful</td>\n",
       "      <td>100</td>\n",
       "      <td>US</td>\n",
       "      <td>12700.0</td>\n",
       "      <td>12500.00</td>\n",
       "      <td>3</td>\n",
       "      <td>2013</td>\n",
       "    </tr>\n",
       "    <tr>\n",
       "      <th>9</th>\n",
       "      <td>1000055792</td>\n",
       "      <td>The Cottage Market</td>\n",
       "      <td>Crafts</td>\n",
       "      <td>Crafts</td>\n",
       "      <td>USD</td>\n",
       "      <td>2014-10-02</td>\n",
       "      <td>2014-09-02 17:11:50</td>\n",
       "      <td>failed</td>\n",
       "      <td>0</td>\n",
       "      <td>US</td>\n",
       "      <td>0.0</td>\n",
       "      <td>5000.00</td>\n",
       "      <td>9</td>\n",
       "      <td>2014</td>\n",
       "    </tr>\n",
       "  </tbody>\n",
       "</table>\n",
       "</div>"
      ],
      "text/plain": [
       "           ID                                               name  \\\n",
       "0  1000002330                    The Songs of Adelaide & Abullah   \n",
       "1  1000003930      Greeting From Earth: ZGAC Arts Capsule For ET   \n",
       "2  1000004038                                     Where is Hank?   \n",
       "3  1000007540  ToshiCapital Rekordz Needs Help to Complete Album   \n",
       "4  1000014025                               Monarch Espresso Bar   \n",
       "5  1000023410  Support Solar Roasted Coffee & Green Energy!  ...   \n",
       "6  1000030581  Chaser Strips. Our Strips make Shots their B*tch!   \n",
       "7   100004721                                Of Jesus and Madmen   \n",
       "8   100005484                                   Lisa Lim New CD!   \n",
       "9  1000055792                                 The Cottage Market   \n",
       "\n",
       "         category main_category currency    deadline             launched  \\\n",
       "0          Poetry    Publishing      GBP  2015-10-09  2015-08-11 12:12:28   \n",
       "1  Narrative Film  Film & Video      USD  2017-11-01  2017-09-02 04:43:57   \n",
       "2  Narrative Film  Film & Video      USD  2013-02-26  2013-01-12 00:20:50   \n",
       "3           Music         Music      USD  2012-04-16  2012-03-17 03:24:11   \n",
       "4     Restaurants          Food      USD  2016-04-01  2016-02-26 13:38:27   \n",
       "5            Food          Food      USD  2014-12-21  2014-12-01 18:30:44   \n",
       "6          Drinks          Food      USD  2016-03-17  2016-02-01 20:05:12   \n",
       "7      Nonfiction    Publishing      CAD  2013-10-09  2013-09-09 18:19:37   \n",
       "8      Indie Rock         Music      USD  2013-04-08  2013-03-09 06:42:58   \n",
       "9          Crafts        Crafts      USD  2014-10-02  2014-09-02 17:11:50   \n",
       "\n",
       "        state  backers country  usd_pledged_real  usd_goal_real  \\\n",
       "0      failed        0      GB               0.0        1533.95   \n",
       "1      failed       15      US            2421.0       30000.00   \n",
       "2      failed        3      US             220.0       45000.00   \n",
       "3      failed        1      US               1.0        5000.00   \n",
       "4  successful      224      US           52375.0       50000.00   \n",
       "5  successful       16      US            1205.0        1000.00   \n",
       "6      failed       40      US             453.0       25000.00   \n",
       "7      failed        0      CA               0.0        2406.39   \n",
       "8  successful      100      US           12700.0       12500.00   \n",
       "9      failed        0      US               0.0        5000.00   \n",
       "\n",
       "   launched_month  launched_year  \n",
       "0               8           2015  \n",
       "1               9           2017  \n",
       "2               1           2013  \n",
       "3               3           2012  \n",
       "4               2           2016  \n",
       "5              12           2014  \n",
       "6               2           2016  \n",
       "7               9           2013  \n",
       "8               3           2013  \n",
       "9               9           2014  "
      ]
     },
     "execution_count": 7,
     "metadata": {},
     "output_type": "execute_result"
    }
   ],
   "source": [
    "df.head(10)"
   ]
  },
  {
   "cell_type": "code",
   "execution_count": 5,
   "id": "45097732",
   "metadata": {},
   "outputs": [],
   "source": [
    "df.main_category = df.main_category.astype('category')"
   ]
  },
  {
   "cell_type": "code",
   "execution_count": 6,
   "id": "a7819cd4",
   "metadata": {},
   "outputs": [],
   "source": [
    "df.currency = df.currency.astype('category')"
   ]
  },
  {
   "cell_type": "code",
   "execution_count": 7,
   "id": "e8b60c0e",
   "metadata": {},
   "outputs": [],
   "source": [
    "df.state = df.state.astype('category')"
   ]
  },
  {
   "cell_type": "code",
   "execution_count": 8,
   "id": "95306f11",
   "metadata": {},
   "outputs": [],
   "source": [
    "df.country = df.country.astype('category')"
   ]
  },
  {
   "cell_type": "code",
   "execution_count": 9,
   "id": "b031c41c",
   "metadata": {},
   "outputs": [],
   "source": [
    "df.launched = pd.to_datetime(df.launched)"
   ]
  },
  {
   "cell_type": "code",
   "execution_count": 10,
   "id": "64f78c9a",
   "metadata": {},
   "outputs": [],
   "source": [
    "df.deadline = pd.to_datetime(df.deadline)"
   ]
  },
  {
   "cell_type": "code",
   "execution_count": 11,
   "id": "ad7b9599",
   "metadata": {},
   "outputs": [
    {
     "data": {
      "text/html": [
       "<div>\n",
       "<style scoped>\n",
       "    .dataframe tbody tr th:only-of-type {\n",
       "        vertical-align: middle;\n",
       "    }\n",
       "\n",
       "    .dataframe tbody tr th {\n",
       "        vertical-align: top;\n",
       "    }\n",
       "\n",
       "    .dataframe thead th {\n",
       "        text-align: right;\n",
       "    }\n",
       "</style>\n",
       "<table border=\"1\" class=\"dataframe\">\n",
       "  <thead>\n",
       "    <tr style=\"text-align: right;\">\n",
       "      <th></th>\n",
       "      <th>ID</th>\n",
       "      <th>name</th>\n",
       "      <th>category</th>\n",
       "      <th>main_category</th>\n",
       "      <th>currency</th>\n",
       "      <th>deadline</th>\n",
       "      <th>goal</th>\n",
       "      <th>launched</th>\n",
       "      <th>pledged</th>\n",
       "      <th>state</th>\n",
       "      <th>backers</th>\n",
       "      <th>country</th>\n",
       "      <th>usd pledged</th>\n",
       "      <th>usd_pledged_real</th>\n",
       "      <th>usd_goal_real</th>\n",
       "    </tr>\n",
       "  </thead>\n",
       "  <tbody>\n",
       "    <tr>\n",
       "      <th>0</th>\n",
       "      <td>1000002330</td>\n",
       "      <td>The Songs of Adelaide &amp; Abullah</td>\n",
       "      <td>Poetry</td>\n",
       "      <td>Publishing</td>\n",
       "      <td>GBP</td>\n",
       "      <td>2015-10-09</td>\n",
       "      <td>1000.0</td>\n",
       "      <td>2015-08-11 12:12:28</td>\n",
       "      <td>0.0</td>\n",
       "      <td>failed</td>\n",
       "      <td>0</td>\n",
       "      <td>GB</td>\n",
       "      <td>0.0</td>\n",
       "      <td>0.0</td>\n",
       "      <td>1533.95</td>\n",
       "    </tr>\n",
       "    <tr>\n",
       "      <th>1</th>\n",
       "      <td>1000003930</td>\n",
       "      <td>Greeting From Earth: ZGAC Arts Capsule For ET</td>\n",
       "      <td>Narrative Film</td>\n",
       "      <td>Film &amp; Video</td>\n",
       "      <td>USD</td>\n",
       "      <td>2017-11-01</td>\n",
       "      <td>30000.0</td>\n",
       "      <td>2017-09-02 04:43:57</td>\n",
       "      <td>2421.0</td>\n",
       "      <td>failed</td>\n",
       "      <td>15</td>\n",
       "      <td>US</td>\n",
       "      <td>100.0</td>\n",
       "      <td>2421.0</td>\n",
       "      <td>30000.00</td>\n",
       "    </tr>\n",
       "    <tr>\n",
       "      <th>2</th>\n",
       "      <td>1000004038</td>\n",
       "      <td>Where is Hank?</td>\n",
       "      <td>Narrative Film</td>\n",
       "      <td>Film &amp; Video</td>\n",
       "      <td>USD</td>\n",
       "      <td>2013-02-26</td>\n",
       "      <td>45000.0</td>\n",
       "      <td>2013-01-12 00:20:50</td>\n",
       "      <td>220.0</td>\n",
       "      <td>failed</td>\n",
       "      <td>3</td>\n",
       "      <td>US</td>\n",
       "      <td>220.0</td>\n",
       "      <td>220.0</td>\n",
       "      <td>45000.00</td>\n",
       "    </tr>\n",
       "    <tr>\n",
       "      <th>3</th>\n",
       "      <td>1000007540</td>\n",
       "      <td>ToshiCapital Rekordz Needs Help to Complete Album</td>\n",
       "      <td>Music</td>\n",
       "      <td>Music</td>\n",
       "      <td>USD</td>\n",
       "      <td>2012-04-16</td>\n",
       "      <td>5000.0</td>\n",
       "      <td>2012-03-17 03:24:11</td>\n",
       "      <td>1.0</td>\n",
       "      <td>failed</td>\n",
       "      <td>1</td>\n",
       "      <td>US</td>\n",
       "      <td>1.0</td>\n",
       "      <td>1.0</td>\n",
       "      <td>5000.00</td>\n",
       "    </tr>\n",
       "    <tr>\n",
       "      <th>4</th>\n",
       "      <td>1000011046</td>\n",
       "      <td>Community Film Project: The Art of Neighborhoo...</td>\n",
       "      <td>Film &amp; Video</td>\n",
       "      <td>Film &amp; Video</td>\n",
       "      <td>USD</td>\n",
       "      <td>2015-08-29</td>\n",
       "      <td>19500.0</td>\n",
       "      <td>2015-07-04 08:35:03</td>\n",
       "      <td>1283.0</td>\n",
       "      <td>canceled</td>\n",
       "      <td>14</td>\n",
       "      <td>US</td>\n",
       "      <td>1283.0</td>\n",
       "      <td>1283.0</td>\n",
       "      <td>19500.00</td>\n",
       "    </tr>\n",
       "  </tbody>\n",
       "</table>\n",
       "</div>"
      ],
      "text/plain": [
       "           ID                                               name  \\\n",
       "0  1000002330                    The Songs of Adelaide & Abullah   \n",
       "1  1000003930      Greeting From Earth: ZGAC Arts Capsule For ET   \n",
       "2  1000004038                                     Where is Hank?   \n",
       "3  1000007540  ToshiCapital Rekordz Needs Help to Complete Album   \n",
       "4  1000011046  Community Film Project: The Art of Neighborhoo...   \n",
       "\n",
       "         category main_category currency   deadline     goal  \\\n",
       "0          Poetry    Publishing      GBP 2015-10-09   1000.0   \n",
       "1  Narrative Film  Film & Video      USD 2017-11-01  30000.0   \n",
       "2  Narrative Film  Film & Video      USD 2013-02-26  45000.0   \n",
       "3           Music         Music      USD 2012-04-16   5000.0   \n",
       "4    Film & Video  Film & Video      USD 2015-08-29  19500.0   \n",
       "\n",
       "             launched  pledged     state  backers country  usd pledged  \\\n",
       "0 2015-08-11 12:12:28      0.0    failed        0      GB          0.0   \n",
       "1 2017-09-02 04:43:57   2421.0    failed       15      US        100.0   \n",
       "2 2013-01-12 00:20:50    220.0    failed        3      US        220.0   \n",
       "3 2012-03-17 03:24:11      1.0    failed        1      US          1.0   \n",
       "4 2015-07-04 08:35:03   1283.0  canceled       14      US       1283.0   \n",
       "\n",
       "   usd_pledged_real  usd_goal_real  \n",
       "0               0.0        1533.95  \n",
       "1            2421.0       30000.00  \n",
       "2             220.0       45000.00  \n",
       "3               1.0        5000.00  \n",
       "4            1283.0       19500.00  "
      ]
     },
     "execution_count": 11,
     "metadata": {},
     "output_type": "execute_result"
    }
   ],
   "source": [
    "df.head()"
   ]
  },
  {
   "cell_type": "code",
   "execution_count": 12,
   "id": "d9ada0ba",
   "metadata": {},
   "outputs": [],
   "source": [
    "df.drop('pledged', axis=1, inplace=True)"
   ]
  },
  {
   "cell_type": "code",
   "execution_count": 13,
   "id": "8e572863",
   "metadata": {},
   "outputs": [],
   "source": [
    "df.drop('goal', axis=1, inplace=True)"
   ]
  },
  {
   "cell_type": "code",
   "execution_count": 14,
   "id": "6b7fabf2",
   "metadata": {},
   "outputs": [
    {
     "name": "stdout",
     "output_type": "stream",
     "text": [
      "<class 'pandas.core.frame.DataFrame'>\n",
      "RangeIndex: 378661 entries, 0 to 378660\n",
      "Data columns (total 13 columns):\n",
      " #   Column            Non-Null Count   Dtype         \n",
      "---  ------            --------------   -----         \n",
      " 0   ID                378661 non-null  int64         \n",
      " 1   name              378657 non-null  object        \n",
      " 2   category          378661 non-null  object        \n",
      " 3   main_category     378661 non-null  category      \n",
      " 4   currency          378661 non-null  category      \n",
      " 5   deadline          378661 non-null  datetime64[ns]\n",
      " 6   launched          378661 non-null  datetime64[ns]\n",
      " 7   state             378661 non-null  category      \n",
      " 8   backers           378661 non-null  int64         \n",
      " 9   country           378661 non-null  category      \n",
      " 10  usd pledged       374864 non-null  float64       \n",
      " 11  usd_pledged_real  378661 non-null  float64       \n",
      " 12  usd_goal_real     378661 non-null  float64       \n",
      "dtypes: category(4), datetime64[ns](2), float64(3), int64(2), object(2)\n",
      "memory usage: 27.4+ MB\n"
     ]
    }
   ],
   "source": [
    "df.info()"
   ]
  },
  {
   "cell_type": "code",
   "execution_count": 15,
   "id": "df86e9db",
   "metadata": {},
   "outputs": [],
   "source": [
    "df_clean = df.copy()"
   ]
  },
  {
   "cell_type": "code",
   "execution_count": 16,
   "id": "961a0c96",
   "metadata": {},
   "outputs": [],
   "source": [
    "new_df = df_clean.copy()"
   ]
  },
  {
   "cell_type": "code",
   "execution_count": 17,
   "id": "2537307b",
   "metadata": {},
   "outputs": [
    {
     "data": {
      "text/plain": [
       "US      292627\n",
       "GB       33672\n",
       "CA       14756\n",
       "AU        7839\n",
       "DE        4171\n",
       "N,0\"      3797\n",
       "FR        2939\n",
       "IT        2878\n",
       "NL        2868\n",
       "ES        2276\n",
       "SE        1757\n",
       "MX        1752\n",
       "NZ        1447\n",
       "DK        1113\n",
       "IE         811\n",
       "CH         761\n",
       "NO         708\n",
       "HK         618\n",
       "BE         617\n",
       "AT         597\n",
       "SG         555\n",
       "LU          62\n",
       "JP          40\n",
       "Name: country, dtype: int64"
      ]
     },
     "execution_count": 17,
     "metadata": {},
     "output_type": "execute_result"
    }
   ],
   "source": [
    "df.country.value_counts()"
   ]
  },
  {
   "cell_type": "code",
   "execution_count": 18,
   "id": "4f12f253",
   "metadata": {},
   "outputs": [],
   "source": [
    "new_df = df_clean.copy()"
   ]
  },
  {
   "cell_type": "code",
   "execution_count": 19,
   "id": "f66b5c16",
   "metadata": {},
   "outputs": [],
   "source": [
    "df_clean = df_clean.query('country != \\'N,0\\\"\\'')"
   ]
  },
  {
   "cell_type": "code",
   "execution_count": 20,
   "id": "710ca77c",
   "metadata": {},
   "outputs": [],
   "source": [
    "df_clean = df_clean.query('launched != \\'2018\\'')"
   ]
  },
  {
   "cell_type": "code",
   "execution_count": 21,
   "id": "555b0869",
   "metadata": {},
   "outputs": [],
   "source": [
    "df_clean = df_clean.query('launched != \\'1970\\'')"
   ]
  },
  {
   "cell_type": "code",
   "execution_count": 22,
   "id": "61e484a0",
   "metadata": {},
   "outputs": [],
   "source": [
    "df_clean = df_clean.query('launched != \\'1970-01-01\\'')"
   ]
  },
  {
   "cell_type": "code",
   "execution_count": 23,
   "id": "a745493e",
   "metadata": {},
   "outputs": [
    {
     "data": {
      "text/plain": [
       "1970-01-01 01:00:00    7\n",
       "2017-05-30 17:00:39    2\n",
       "2015-04-08 22:34:48    2\n",
       "2016-05-24 22:44:57    2\n",
       "2017-06-13 19:00:02    2\n",
       "                      ..\n",
       "2015-07-23 10:42:24    1\n",
       "2015-01-22 05:28:24    1\n",
       "2013-01-08 19:49:35    1\n",
       "2017-09-25 15:57:57    1\n",
       "2011-07-19 09:07:47    1\n",
       "Name: launched, Length: 374302, dtype: int64"
      ]
     },
     "execution_count": 23,
     "metadata": {},
     "output_type": "execute_result"
    }
   ],
   "source": [
    "df_clean.launched.value_counts()"
   ]
  },
  {
   "cell_type": "code",
   "execution_count": 24,
   "id": "d38ca6d7",
   "metadata": {},
   "outputs": [
    {
     "name": "stdout",
     "output_type": "stream",
     "text": [
      "<class 'pandas.core.frame.DataFrame'>\n",
      "Int64Index: 374864 entries, 0 to 378660\n",
      "Data columns (total 13 columns):\n",
      " #   Column            Non-Null Count   Dtype         \n",
      "---  ------            --------------   -----         \n",
      " 0   ID                374864 non-null  int64         \n",
      " 1   name              374860 non-null  object        \n",
      " 2   category          374864 non-null  object        \n",
      " 3   main_category     374864 non-null  category      \n",
      " 4   currency          374864 non-null  category      \n",
      " 5   deadline          374864 non-null  datetime64[ns]\n",
      " 6   launched          374864 non-null  datetime64[ns]\n",
      " 7   state             374864 non-null  category      \n",
      " 8   backers           374864 non-null  int64         \n",
      " 9   country           374864 non-null  category      \n",
      " 10  usd pledged       374864 non-null  float64       \n",
      " 11  usd_pledged_real  374864 non-null  float64       \n",
      " 12  usd_goal_real     374864 non-null  float64       \n",
      "dtypes: category(4), datetime64[ns](2), float64(3), int64(2), object(2)\n",
      "memory usage: 30.0+ MB\n"
     ]
    }
   ],
   "source": [
    "df_clean.info()"
   ]
  },
  {
   "cell_type": "code",
   "execution_count": 25,
   "id": "f13250d4",
   "metadata": {},
   "outputs": [],
   "source": [
    "df_clean.to_csv('df_clean.csv', index=False)"
   ]
  },
  {
   "cell_type": "code",
   "execution_count": 26,
   "id": "1cb1e37d",
   "metadata": {},
   "outputs": [],
   "source": [
    "df_clean = pd.read_csv('df_clean.csv')"
   ]
  },
  {
   "cell_type": "code",
   "execution_count": 27,
   "id": "09d599c1",
   "metadata": {},
   "outputs": [
    {
     "data": {
      "text/html": [
       "<div>\n",
       "<style scoped>\n",
       "    .dataframe tbody tr th:only-of-type {\n",
       "        vertical-align: middle;\n",
       "    }\n",
       "\n",
       "    .dataframe tbody tr th {\n",
       "        vertical-align: top;\n",
       "    }\n",
       "\n",
       "    .dataframe thead th {\n",
       "        text-align: right;\n",
       "    }\n",
       "</style>\n",
       "<table border=\"1\" class=\"dataframe\">\n",
       "  <thead>\n",
       "    <tr style=\"text-align: right;\">\n",
       "      <th></th>\n",
       "      <th>ID</th>\n",
       "      <th>name</th>\n",
       "      <th>category</th>\n",
       "      <th>main_category</th>\n",
       "      <th>currency</th>\n",
       "      <th>deadline</th>\n",
       "      <th>launched</th>\n",
       "      <th>state</th>\n",
       "      <th>backers</th>\n",
       "      <th>country</th>\n",
       "      <th>usd pledged</th>\n",
       "      <th>usd_pledged_real</th>\n",
       "      <th>usd_goal_real</th>\n",
       "    </tr>\n",
       "  </thead>\n",
       "  <tbody>\n",
       "    <tr>\n",
       "      <th>0</th>\n",
       "      <td>1000002330</td>\n",
       "      <td>The Songs of Adelaide &amp; Abullah</td>\n",
       "      <td>Poetry</td>\n",
       "      <td>Publishing</td>\n",
       "      <td>GBP</td>\n",
       "      <td>2015-10-09 00:00:00</td>\n",
       "      <td>2015-08-11 12:12:28</td>\n",
       "      <td>failed</td>\n",
       "      <td>0</td>\n",
       "      <td>GB</td>\n",
       "      <td>0.00</td>\n",
       "      <td>0.00</td>\n",
       "      <td>1533.95</td>\n",
       "    </tr>\n",
       "    <tr>\n",
       "      <th>1</th>\n",
       "      <td>1000003930</td>\n",
       "      <td>Greeting From Earth: ZGAC Arts Capsule For ET</td>\n",
       "      <td>Narrative Film</td>\n",
       "      <td>Film &amp; Video</td>\n",
       "      <td>USD</td>\n",
       "      <td>2017-11-01 00:00:00</td>\n",
       "      <td>2017-09-02 04:43:57</td>\n",
       "      <td>failed</td>\n",
       "      <td>15</td>\n",
       "      <td>US</td>\n",
       "      <td>100.00</td>\n",
       "      <td>2421.00</td>\n",
       "      <td>30000.00</td>\n",
       "    </tr>\n",
       "    <tr>\n",
       "      <th>2</th>\n",
       "      <td>1000004038</td>\n",
       "      <td>Where is Hank?</td>\n",
       "      <td>Narrative Film</td>\n",
       "      <td>Film &amp; Video</td>\n",
       "      <td>USD</td>\n",
       "      <td>2013-02-26 00:00:00</td>\n",
       "      <td>2013-01-12 00:20:50</td>\n",
       "      <td>failed</td>\n",
       "      <td>3</td>\n",
       "      <td>US</td>\n",
       "      <td>220.00</td>\n",
       "      <td>220.00</td>\n",
       "      <td>45000.00</td>\n",
       "    </tr>\n",
       "    <tr>\n",
       "      <th>3</th>\n",
       "      <td>1000007540</td>\n",
       "      <td>ToshiCapital Rekordz Needs Help to Complete Album</td>\n",
       "      <td>Music</td>\n",
       "      <td>Music</td>\n",
       "      <td>USD</td>\n",
       "      <td>2012-04-16 00:00:00</td>\n",
       "      <td>2012-03-17 03:24:11</td>\n",
       "      <td>failed</td>\n",
       "      <td>1</td>\n",
       "      <td>US</td>\n",
       "      <td>1.00</td>\n",
       "      <td>1.00</td>\n",
       "      <td>5000.00</td>\n",
       "    </tr>\n",
       "    <tr>\n",
       "      <th>4</th>\n",
       "      <td>1000011046</td>\n",
       "      <td>Community Film Project: The Art of Neighborhoo...</td>\n",
       "      <td>Film &amp; Video</td>\n",
       "      <td>Film &amp; Video</td>\n",
       "      <td>USD</td>\n",
       "      <td>2015-08-29 00:00:00</td>\n",
       "      <td>2015-07-04 08:35:03</td>\n",
       "      <td>canceled</td>\n",
       "      <td>14</td>\n",
       "      <td>US</td>\n",
       "      <td>1283.00</td>\n",
       "      <td>1283.00</td>\n",
       "      <td>19500.00</td>\n",
       "    </tr>\n",
       "    <tr>\n",
       "      <th>5</th>\n",
       "      <td>1000014025</td>\n",
       "      <td>Monarch Espresso Bar</td>\n",
       "      <td>Restaurants</td>\n",
       "      <td>Food</td>\n",
       "      <td>USD</td>\n",
       "      <td>2016-04-01 00:00:00</td>\n",
       "      <td>2016-02-26 13:38:27</td>\n",
       "      <td>successful</td>\n",
       "      <td>224</td>\n",
       "      <td>US</td>\n",
       "      <td>52375.00</td>\n",
       "      <td>52375.00</td>\n",
       "      <td>50000.00</td>\n",
       "    </tr>\n",
       "    <tr>\n",
       "      <th>6</th>\n",
       "      <td>1000023410</td>\n",
       "      <td>Support Solar Roasted Coffee &amp; Green Energy!  ...</td>\n",
       "      <td>Food</td>\n",
       "      <td>Food</td>\n",
       "      <td>USD</td>\n",
       "      <td>2014-12-21 00:00:00</td>\n",
       "      <td>2014-12-01 18:30:44</td>\n",
       "      <td>successful</td>\n",
       "      <td>16</td>\n",
       "      <td>US</td>\n",
       "      <td>1205.00</td>\n",
       "      <td>1205.00</td>\n",
       "      <td>1000.00</td>\n",
       "    </tr>\n",
       "    <tr>\n",
       "      <th>7</th>\n",
       "      <td>1000030581</td>\n",
       "      <td>Chaser Strips. Our Strips make Shots their B*tch!</td>\n",
       "      <td>Drinks</td>\n",
       "      <td>Food</td>\n",
       "      <td>USD</td>\n",
       "      <td>2016-03-17 00:00:00</td>\n",
       "      <td>2016-02-01 20:05:12</td>\n",
       "      <td>failed</td>\n",
       "      <td>40</td>\n",
       "      <td>US</td>\n",
       "      <td>453.00</td>\n",
       "      <td>453.00</td>\n",
       "      <td>25000.00</td>\n",
       "    </tr>\n",
       "    <tr>\n",
       "      <th>8</th>\n",
       "      <td>1000034518</td>\n",
       "      <td>SPIN - Premium Retractable In-Ear Headphones w...</td>\n",
       "      <td>Product Design</td>\n",
       "      <td>Design</td>\n",
       "      <td>USD</td>\n",
       "      <td>2014-05-29 00:00:00</td>\n",
       "      <td>2014-04-24 18:14:43</td>\n",
       "      <td>canceled</td>\n",
       "      <td>58</td>\n",
       "      <td>US</td>\n",
       "      <td>8233.00</td>\n",
       "      <td>8233.00</td>\n",
       "      <td>125000.00</td>\n",
       "    </tr>\n",
       "    <tr>\n",
       "      <th>9</th>\n",
       "      <td>100004195</td>\n",
       "      <td>STUDIO IN THE SKY - A Documentary Feature Film...</td>\n",
       "      <td>Documentary</td>\n",
       "      <td>Film &amp; Video</td>\n",
       "      <td>USD</td>\n",
       "      <td>2014-08-10 00:00:00</td>\n",
       "      <td>2014-07-11 21:55:48</td>\n",
       "      <td>canceled</td>\n",
       "      <td>43</td>\n",
       "      <td>US</td>\n",
       "      <td>6240.57</td>\n",
       "      <td>6240.57</td>\n",
       "      <td>65000.00</td>\n",
       "    </tr>\n",
       "  </tbody>\n",
       "</table>\n",
       "</div>"
      ],
      "text/plain": [
       "           ID                                               name  \\\n",
       "0  1000002330                    The Songs of Adelaide & Abullah   \n",
       "1  1000003930      Greeting From Earth: ZGAC Arts Capsule For ET   \n",
       "2  1000004038                                     Where is Hank?   \n",
       "3  1000007540  ToshiCapital Rekordz Needs Help to Complete Album   \n",
       "4  1000011046  Community Film Project: The Art of Neighborhoo...   \n",
       "5  1000014025                               Monarch Espresso Bar   \n",
       "6  1000023410  Support Solar Roasted Coffee & Green Energy!  ...   \n",
       "7  1000030581  Chaser Strips. Our Strips make Shots their B*tch!   \n",
       "8  1000034518  SPIN - Premium Retractable In-Ear Headphones w...   \n",
       "9   100004195  STUDIO IN THE SKY - A Documentary Feature Film...   \n",
       "\n",
       "         category main_category currency             deadline  \\\n",
       "0          Poetry    Publishing      GBP  2015-10-09 00:00:00   \n",
       "1  Narrative Film  Film & Video      USD  2017-11-01 00:00:00   \n",
       "2  Narrative Film  Film & Video      USD  2013-02-26 00:00:00   \n",
       "3           Music         Music      USD  2012-04-16 00:00:00   \n",
       "4    Film & Video  Film & Video      USD  2015-08-29 00:00:00   \n",
       "5     Restaurants          Food      USD  2016-04-01 00:00:00   \n",
       "6            Food          Food      USD  2014-12-21 00:00:00   \n",
       "7          Drinks          Food      USD  2016-03-17 00:00:00   \n",
       "8  Product Design        Design      USD  2014-05-29 00:00:00   \n",
       "9     Documentary  Film & Video      USD  2014-08-10 00:00:00   \n",
       "\n",
       "              launched       state  backers country  usd pledged  \\\n",
       "0  2015-08-11 12:12:28      failed        0      GB         0.00   \n",
       "1  2017-09-02 04:43:57      failed       15      US       100.00   \n",
       "2  2013-01-12 00:20:50      failed        3      US       220.00   \n",
       "3  2012-03-17 03:24:11      failed        1      US         1.00   \n",
       "4  2015-07-04 08:35:03    canceled       14      US      1283.00   \n",
       "5  2016-02-26 13:38:27  successful      224      US     52375.00   \n",
       "6  2014-12-01 18:30:44  successful       16      US      1205.00   \n",
       "7  2016-02-01 20:05:12      failed       40      US       453.00   \n",
       "8  2014-04-24 18:14:43    canceled       58      US      8233.00   \n",
       "9  2014-07-11 21:55:48    canceled       43      US      6240.57   \n",
       "\n",
       "   usd_pledged_real  usd_goal_real  \n",
       "0              0.00        1533.95  \n",
       "1           2421.00       30000.00  \n",
       "2            220.00       45000.00  \n",
       "3              1.00        5000.00  \n",
       "4           1283.00       19500.00  \n",
       "5          52375.00       50000.00  \n",
       "6           1205.00        1000.00  \n",
       "7            453.00       25000.00  \n",
       "8           8233.00      125000.00  \n",
       "9           6240.57       65000.00  "
      ]
     },
     "execution_count": 27,
     "metadata": {},
     "output_type": "execute_result"
    }
   ],
   "source": [
    "df_clean.head(10)"
   ]
  },
  {
   "cell_type": "code",
   "execution_count": 28,
   "id": "d614908c",
   "metadata": {},
   "outputs": [
    {
     "data": {
      "text/plain": [
       "20338986.27"
      ]
     },
     "execution_count": 28,
     "metadata": {},
     "output_type": "execute_result"
    }
   ],
   "source": [
    "df_clean['usd_pledged_real'].max()"
   ]
  },
  {
   "cell_type": "code",
   "execution_count": 29,
   "id": "e806cffb",
   "metadata": {},
   "outputs": [
    {
     "data": {
      "text/plain": [
       "374864"
      ]
     },
     "execution_count": 29,
     "metadata": {},
     "output_type": "execute_result"
    }
   ],
   "source": [
    "df_clean['category'].count()"
   ]
  },
  {
   "cell_type": "code",
   "execution_count": 30,
   "id": "f9f28b0a",
   "metadata": {},
   "outputs": [
    {
     "data": {
      "image/png": "[encoded data removed]",
      "text/plain": [
       "<Figure size 1440x576 with 1 Axes>"
      ]
     },
     "metadata": {
      "needs_background": "light"
     },
     "output_type": "display_data"
    }
   ],
   "source": [
    "df_clean.groupby('category')['usd_pledged_real'].mean().sort_values(ascending=False).plot(kind='bar', figsize=(20,8));"
   ]
  },
  {
   "cell_type": "code",
   "execution_count": 31,
   "id": "b53de548",
   "metadata": {},
   "outputs": [
    {
     "data": {
      "text/plain": [
       "category\n",
       "Camera Equipment     81362.319880\n",
       "3D Printing          66399.119575\n",
       "Sound                61878.248445\n",
       "Wearables            56284.998240\n",
       "Fabrication Tools    48192.981440\n",
       "                         ...     \n",
       "Printing               861.249286\n",
       "Places                 846.407375\n",
       "Embroidery             840.494602\n",
       "Candles                563.842611\n",
       "Crochet                297.539753\n",
       "Name: usd_pledged_real, Length: 159, dtype: float64"
      ]
     },
     "execution_count": 31,
     "metadata": {},
     "output_type": "execute_result"
    }
   ],
   "source": [
    "df_clean.groupby(['category'])['usd_pledged_real'].mean().sort_values(ascending=False)"
   ]
  },
  {
   "cell_type": "code",
   "execution_count": 32,
   "id": "a1a66bdc",
   "metadata": {},
   "outputs": [
    {
     "data": {
      "image/png": "[encoded data removed]",
      "text/plain": [
       "<Figure size 720x576 with 1 Axes>"
      ]
     },
     "metadata": {
      "needs_background": "light"
     },
     "output_type": "display_data"
    }
   ],
   "source": [
    "df_clean.groupby('main_category')['usd_pledged_real'].mean().sort_values(ascending=False).plot(kind='bar', figsize=(10,8));"
   ]
  },
  {
   "cell_type": "code",
   "execution_count": 33,
   "id": "a9084974",
   "metadata": {},
   "outputs": [
    {
     "data": {
      "text/plain": [
       "main_category\n",
       "Design          24419.015795\n",
       "Technology      21070.369202\n",
       "Games           21043.346236\n",
       "Comics           6610.443828\n",
       "Film & Video     6218.099883\n",
       "Fashion          5712.865119\n",
       "Food             5114.282154\n",
       "Theater          4006.045016\n",
       "Music            3911.548999\n",
       "Photography      3572.220982\n",
       "Dance            3453.809894\n",
       "Publishing       3390.641286\n",
       "Art              3220.986968\n",
       "Journalism       2615.789125\n",
       "Crafts           1632.907282\n",
       "Name: usd_pledged_real, dtype: float64"
      ]
     },
     "execution_count": 33,
     "metadata": {},
     "output_type": "execute_result"
    }
   ],
   "source": [
    "main_cat = df_clean.groupby(['main_category'])['usd_pledged_real'].mean().sort_values(ascending=False)\n",
    "main_cat"
   ]
  },
  {
   "cell_type": "code",
   "execution_count": null,
   "id": "3c4a581e",
   "metadata": {},
   "outputs": [],
   "source": []
  }
 ],
 "metadata": {
  "kernelspec": {
   "display_name": "Python 3 (ipykernel)",
   "language": "python",
   "name": "python3"
  },
  "language_info": {
   "codemirror_mode": {
    "name": "ipython",
    "version": 3
   },
   "file_extension": ".py",
   "mimetype": "text/x-python",
   "name": "python",
   "nbconvert_exporter": "python",
   "pygments_lexer": "ipython3",
   "version": "3.9.7"
  }
 },
 "nbformat": 4,
 "nbformat_minor": 5
}
