{
 "cells": [
  {
   "cell_type": "markdown",
   "metadata": {},
   "source": [
    "## Import bibliotek"
   ]
  },
  {
   "cell_type": "code",
   "execution_count": 112,
   "metadata": {},
   "outputs": [],
   "source": [
    "import pandas as pd\n",
    "import datetime\n",
    "import matplotlib as plt\n",
    "import seaborn as sns\n",
    "import project_code as pc"
   ]
  },
  {
   "cell_type": "code",
   "execution_count": 113,
   "metadata": {},
   "outputs": [],
   "source": [
    "#Zaimportowanie pliku z pc\n",
    "df_clean = pc.f_file_import('df_clean.csv')"
   ]
  },
  {
   "cell_type": "markdown",
   "metadata": {},
   "source": [
    "***\n",
    "***\n",
    "***"
   ]
  },
  {
   "cell_type": "markdown",
   "metadata": {},
   "source": [
    "## Funkcje"
   ]
  },
  {
   "cell_type": "code",
   "execution_count": 114,
   "metadata": {},
   "outputs": [],
   "source": [
    "#definicja development\n",
    "#funkcja wykres słupkowy - liczebność - jedna zmienna\n",
    "def f_barplot_1_var(name, var:str, size:tuple = (10,6)):\n",
    "    name.groupby(var)[var].count().sort_values(ascending = False).plot(kind = 'bar', figsize = size);"
   ]
  },
  {
   "cell_type": "code",
   "execution_count": 115,
   "metadata": {},
   "outputs": [
    {
     "data": {
      "image/png": "[encoded data removed]",
      "text/plain": [
       "<Figure size 864x720 with 1 Axes>"
      ]
     },
     "metadata": {
      "needs_background": "light"
     },
     "output_type": "display_data"
    }
   ],
   "source": [
    "#definicja sprawdzenie\n",
    "f_barplot_1_var(df_clean, 'country', (12,10));"
   ]
  },
  {
   "cell_type": "code",
   "execution_count": 116,
   "metadata": {},
   "outputs": [],
   "source": [
    "#Wywołanie z pliku pc\n",
    "#pc.f_barplot_1_var(df_clean, 'country', (12,10))"
   ]
  },
  {
   "cell_type": "markdown",
   "metadata": {},
   "source": [
    "***"
   ]
  },
  {
   "cell_type": "code",
   "execution_count": 117,
   "metadata": {},
   "outputs": [],
   "source": [
    "#definicja development\n",
    "#funkcja agregująca dane do nowego DF\n",
    "def aggregate_fun(df, agg_list:list, measure:str):\n",
    "    agg_df = df.groupby(agg_list)[measure].agg(['count',sum,'mean']).reset_index()\n",
    "    return agg_df\n",
    "    #['country','main_category'] 'usd_pledged_real'"
   ]
  },
  {
   "cell_type": "code",
   "execution_count": 118,
   "metadata": {},
   "outputs": [
    {
     "data": {
      "text/html": [
       "<div>\n",
       "<style scoped>\n",
       "    .dataframe tbody tr th:only-of-type {\n",
       "        vertical-align: middle;\n",
       "    }\n",
       "\n",
       "    .dataframe tbody tr th {\n",
       "        vertical-align: top;\n",
       "    }\n",
       "\n",
       "    .dataframe thead th {\n",
       "        text-align: right;\n",
       "    }\n",
       "</style>\n",
       "<table border=\"1\" class=\"dataframe\">\n",
       "  <thead>\n",
       "    <tr style=\"text-align: right;\">\n",
       "      <th></th>\n",
       "      <th>state</th>\n",
       "      <th>main_category</th>\n",
       "      <th>count</th>\n",
       "      <th>sum</th>\n",
       "      <th>mean</th>\n",
       "    </tr>\n",
       "  </thead>\n",
       "  <tbody>\n",
       "    <tr>\n",
       "      <th>0</th>\n",
       "      <td>failed</td>\n",
       "      <td>Art</td>\n",
       "      <td>14131</td>\n",
       "      <td>8832292.14</td>\n",
       "      <td>625.029519</td>\n",
       "    </tr>\n",
       "    <tr>\n",
       "      <th>1</th>\n",
       "      <td>failed</td>\n",
       "      <td>Comics</td>\n",
       "      <td>4036</td>\n",
       "      <td>4085175.91</td>\n",
       "      <td>1012.184319</td>\n",
       "    </tr>\n",
       "    <tr>\n",
       "      <th>2</th>\n",
       "      <td>failed</td>\n",
       "      <td>Crafts</td>\n",
       "      <td>5703</td>\n",
       "      <td>2047009.43</td>\n",
       "      <td>358.935548</td>\n",
       "    </tr>\n",
       "    <tr>\n",
       "      <th>3</th>\n",
       "      <td>failed</td>\n",
       "      <td>Dance</td>\n",
       "      <td>1235</td>\n",
       "      <td>764510.83</td>\n",
       "      <td>619.037109</td>\n",
       "    </tr>\n",
       "    <tr>\n",
       "      <th>4</th>\n",
       "      <td>failed</td>\n",
       "      <td>Design</td>\n",
       "      <td>14814</td>\n",
       "      <td>42079695.34</td>\n",
       "      <td>2840.535665</td>\n",
       "    </tr>\n",
       "  </tbody>\n",
       "</table>\n",
       "</div>"
      ],
      "text/plain": [
       "    state main_category  count          sum         mean\n",
       "0  failed           Art  14131   8832292.14   625.029519\n",
       "1  failed        Comics   4036   4085175.91  1012.184319\n",
       "2  failed        Crafts   5703   2047009.43   358.935548\n",
       "3  failed         Dance   1235    764510.83   619.037109\n",
       "4  failed        Design  14814  42079695.34  2840.535665"
      ]
     },
     "execution_count": 118,
     "metadata": {},
     "output_type": "execute_result"
    }
   ],
   "source": [
    "#Przypisanie do zmiennej zagregowanego data frame'u\n",
    "df_agg = aggregate_fun(df_clean, ['state','main_category'], 'usd_pledged_real')\n",
    "df_agg.head()"
   ]
  },
  {
   "cell_type": "code",
   "execution_count": 119,
   "metadata": {},
   "outputs": [],
   "source": [
    "#definicja development\n",
    "#funkcja sortująca\n",
    "def sorting_values(df_agg, value_by:str = 'mean', sorting_var:bool = False):\n",
    "    return df_agg.sort_values(by =value_by, ascending= sorting_var).reset_index()\n"
   ]
  },
  {
   "cell_type": "code",
   "execution_count": 120,
   "metadata": {},
   "outputs": [
    {
     "data": {
      "text/html": [
       "<div>\n",
       "<style scoped>\n",
       "    .dataframe tbody tr th:only-of-type {\n",
       "        vertical-align: middle;\n",
       "    }\n",
       "\n",
       "    .dataframe tbody tr th {\n",
       "        vertical-align: top;\n",
       "    }\n",
       "\n",
       "    .dataframe thead th {\n",
       "        text-align: right;\n",
       "    }\n",
       "</style>\n",
       "<table border=\"1\" class=\"dataframe\">\n",
       "  <thead>\n",
       "    <tr style=\"text-align: right;\">\n",
       "      <th></th>\n",
       "      <th>index</th>\n",
       "      <th>state</th>\n",
       "      <th>main_category</th>\n",
       "      <th>count</th>\n",
       "      <th>sum</th>\n",
       "      <th>mean</th>\n",
       "    </tr>\n",
       "  </thead>\n",
       "  <tbody>\n",
       "    <tr>\n",
       "      <th>0</th>\n",
       "      <td>28</td>\n",
       "      <td>successful</td>\n",
       "      <td>Technology</td>\n",
       "      <td>6433</td>\n",
       "      <td>5.961512e+08</td>\n",
       "      <td>92670.794704</td>\n",
       "    </tr>\n",
       "    <tr>\n",
       "      <th>1</th>\n",
       "      <td>19</td>\n",
       "      <td>successful</td>\n",
       "      <td>Design</td>\n",
       "      <td>10549</td>\n",
       "      <td>6.631459e+08</td>\n",
       "      <td>62863.392811</td>\n",
       "    </tr>\n",
       "    <tr>\n",
       "      <th>2</th>\n",
       "      <td>23</td>\n",
       "      <td>successful</td>\n",
       "      <td>Games</td>\n",
       "      <td>12518</td>\n",
       "      <td>6.788356e+08</td>\n",
       "      <td>54228.755136</td>\n",
       "    </tr>\n",
       "    <tr>\n",
       "      <th>3</th>\n",
       "      <td>20</td>\n",
       "      <td>successful</td>\n",
       "      <td>Fashion</td>\n",
       "      <td>5593</td>\n",
       "      <td>1.134627e+08</td>\n",
       "      <td>20286.555534</td>\n",
       "    </tr>\n",
       "    <tr>\n",
       "      <th>4</th>\n",
       "      <td>22</td>\n",
       "      <td>successful</td>\n",
       "      <td>Food</td>\n",
       "      <td>6085</td>\n",
       "      <td>1.055710e+08</td>\n",
       "      <td>17349.390516</td>\n",
       "    </tr>\n",
       "  </tbody>\n",
       "</table>\n",
       "</div>"
      ],
      "text/plain": [
       "   index       state main_category  count           sum          mean\n",
       "0     28  successful    Technology   6433  5.961512e+08  92670.794704\n",
       "1     19  successful        Design  10549  6.631459e+08  62863.392811\n",
       "2     23  successful         Games  12518  6.788356e+08  54228.755136\n",
       "3     20  successful       Fashion   5593  1.134627e+08  20286.555534\n",
       "4     22  successful          Food   6085  1.055710e+08  17349.390516"
      ]
     },
     "execution_count": 120,
     "metadata": {},
     "output_type": "execute_result"
    }
   ],
   "source": [
    "#Przypisanie do zmiennej\n",
    "df_agg = sorting_values(df_agg)\n",
    "df_agg.head()"
   ]
  },
  {
   "cell_type": "markdown",
   "metadata": {},
   "source": [
    "***"
   ]
  },
  {
   "cell_type": "code",
   "execution_count": 121,
   "metadata": {},
   "outputs": [],
   "source": [
    "#definicja development\n",
    "#funkcja wykres słupkowy - liczebność - dwie zmienne - col x\n",
    "def barplot_2var(df, var1:str, var2:str, measure):\n",
    "    sns.catplot(data = df, col = var1 , x = var2, y = measure , kind = 'bar');\n",
    "    #'country' 'main_category' 'count'"
   ]
  },
  {
   "cell_type": "code",
   "execution_count": 122,
   "metadata": {},
   "outputs": [
    {
     "data": {
      "image/png": "[encoded data removed]",
      "text/plain": [
       "<Figure size 720x360 with 2 Axes>"
      ]
     },
     "metadata": {
      "needs_background": "light"
     },
     "output_type": "display_data"
    }
   ],
   "source": [
    "#definicja sprawdzenie\n",
    "barplot_2var(df_agg, 'state', 'main_category', 'count')"
   ]
  },
  {
   "cell_type": "code",
   "execution_count": 123,
   "metadata": {},
   "outputs": [],
   "source": [
    "#Wywołanie z pliku pc\n",
    "#pc.barplot_2var(df_agg, 'state', 'main_category', 'count')"
   ]
  },
  {
   "cell_type": "markdown",
   "metadata": {},
   "source": [
    "***"
   ]
  },
  {
   "cell_type": "code",
   "execution_count": 124,
   "metadata": {},
   "outputs": [],
   "source": [
    "#definicja development\n",
    "#funkcja wykres słupkowy - średnia - dwie zmienne\n",
    "# var1 - zmienna grupująca, var2 - zmienna grupowana\n",
    "def f_barplot_2_var_mean(name, var1:str, var2:str):\n",
    "    name.groupby(var1)[var2].mean().sort_values(ascending=False).plot(kind='bar', figsize=(10,8));"
   ]
  },
  {
   "cell_type": "code",
   "execution_count": 125,
   "metadata": {},
   "outputs": [
    {
     "data": {
      "image/png": "[encoded data removed]",
      "text/plain": [
       "<Figure size 720x576 with 1 Axes>"
      ]
     },
     "metadata": {
      "needs_background": "light"
     },
     "output_type": "display_data"
    }
   ],
   "source": [
    "f_barplot_2_var_mean(df_clean, 'main_category', 'usd_pledged_real')"
   ]
  },
  {
   "cell_type": "code",
   "execution_count": 126,
   "metadata": {},
   "outputs": [],
   "source": [
    "#Wywołanie z pliku pc\n",
    "#pc.f_barplot_2_var_mean(df_clean, 'main_category', 'usd_pledged_real')"
   ]
  }
 ],
 "metadata": {
  "kernelspec": {
   "display_name": "Python 3 (ipykernel)",
   "language": "python",
   "name": "python3"
  },
  "language_info": {
   "codemirror_mode": {
    "name": "ipython",
    "version": 3
   },
   "file_extension": ".py",
   "mimetype": "text/x-python",
   "name": "python",
   "nbconvert_exporter": "python",
   "pygments_lexer": "ipython3",
   "version": "3.10.4"
  },
  "vscode": {
   "interpreter": {
    "hash": "4cfeb66b32c5fcf005b804b639fef08d5f2e9a9bfec2acf4bceb86bb0656e308"
   }
  }
 },
 "nbformat": 4,
 "nbformat_minor": 2
}
