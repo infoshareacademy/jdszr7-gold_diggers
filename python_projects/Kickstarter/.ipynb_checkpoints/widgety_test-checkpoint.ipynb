{
 "cells": [
  {
   "cell_type": "code",
   "execution_count": 1,
   "id": "07804aa2",
   "metadata": {},
   "outputs": [
    {
     "name": "stderr",
     "output_type": "stream",
     "text": [
      "C:\\Users\\jozab\\anaconda3\\lib\\site-packages\\numpy\\_distributor_init.py:30: UserWarning: loaded more than 1 DLL from .libs:\n",
      "C:\\Users\\jozab\\anaconda3\\lib\\site-packages\\numpy\\.libs\\libopenblas.FB5AE2TYXYH2IJRDKGDGQ3XBKLKTF43H.gfortran-win_amd64.dll\n",
      "C:\\Users\\jozab\\anaconda3\\lib\\site-packages\\numpy\\.libs\\libopenblas.WCDJNK7YVMPZQ2ME2ZZHJJRJ3JIKNDB7.gfortran-win_amd64.dll\n",
      "  warnings.warn(\"loaded more than 1 DLL from .libs:\"\n"
     ]
    }
   ],
   "source": [
    "import pandas as pd\n",
    "import matplotlib as plt\n",
    "import seaborn as sns\n",
    "\n",
    "import ipywidgets as widgets\n",
    "from ipywidgets import interact"
   ]
  },
  {
   "cell_type": "code",
   "execution_count": 2,
   "id": "c28ef81f",
   "metadata": {},
   "outputs": [],
   "source": [
    "#funkcja import pliku\n",
    "def f_file_import(name:str):\n",
    "    return pd.read_csv(name)"
   ]
  },
  {
   "cell_type": "code",
   "execution_count": 3,
   "id": "971b327b",
   "metadata": {},
   "outputs": [],
   "source": [
    "#Zaimportowanie pliku z pc\n",
    "df_clean = f_file_import('df_clean.csv')"
   ]
  },
  {
   "cell_type": "code",
   "execution_count": 6,
   "id": "ccaf7281",
   "metadata": {},
   "outputs": [],
   "source": [
    "#funkcja wykres słupkowy - liczebność - dwie zmienne - col x\n",
    "def count_plot_col(df, var_col:str, var_x:str,column_wrap:int =3, height_value:float = 4):\n",
    "    g = sns.catplot(data = df, col = var_col , x = var_x,  kind = 'count', height = height_value, col_wrap=column_wrap)\n",
    "    g.set_titles('{col_name}');"
   ]
  },
  {
   "cell_type": "code",
   "execution_count": 5,
   "id": "5b3f866c",
   "metadata": {},
   "outputs": [
    {
     "data": {
      "text/plain": [
       "['Publishing',\n",
       " 'Film & Video',\n",
       " 'Music',\n",
       " 'Food',\n",
       " 'Crafts',\n",
       " 'Games',\n",
       " 'Design',\n",
       " 'Comics',\n",
       " 'Fashion',\n",
       " 'Theater',\n",
       " 'Art',\n",
       " 'Photography',\n",
       " 'Technology',\n",
       " 'Dance',\n",
       " 'Journalism']"
      ]
     },
     "execution_count": 5,
     "metadata": {},
     "output_type": "execute_result"
    }
   ],
   "source": [
    "#lista kategorii do wyboru\n",
    "list_main_category = list(df_clean['main_category'].unique())\n",
    "list_main_category"
   ]
  },
  {
   "cell_type": "code",
   "execution_count": 32,
   "id": "1fff24db",
   "metadata": {},
   "outputs": [],
   "source": [
    "def widget_interact(var_col_master, var_col_master_1):\n",
    "    count_plot_col(df_clean.loc[(df_clean['main_category'] == var_col_master) | (df_clean['main_category'] == var_col_master_1)],\n",
    "                   'main_category', 'launched_year')"
   ]
  },
  {
   "cell_type": "code",
   "execution_count": 33,
   "id": "70b62d32",
   "metadata": {},
   "outputs": [
    {
     "data": {
      "application/vnd.jupyter.widget-view+json": {
       "model_id": "ac6651b8dc414537ba63d98465b45879",
       "version_major": 2,
       "version_minor": 0
      },
      "text/plain": [
       "interactive(children=(Dropdown(description='var_col_master', options=('Publishing', 'Film & Video', 'Music', '…"
      ]
     },
     "metadata": {},
     "output_type": "display_data"
    }
   ],
   "source": [
    "interact(widget_interact, var_col_master=list_main_category, var_col_master_1=list_main_category);"
   ]
  },
  {
   "cell_type": "code",
   "execution_count": 2,
   "id": "fc88a3c8",
   "metadata": {},
   "outputs": [],
   "source": [
    "class Vehicle: \n",
    "  def intro(self): \n",
    "    print(\"I am a Vehicle\") \n",
    "      \n",
    "  def wheelCount(self): \n",
    "    print(\"This vehicle has 4 wheels\") \n",
    "    \n",
    "class Truck(Vehicle): \n",
    "  def wheelCount(self): \n",
    "    print(\"This truck has 8 wheels\") "
   ]
  },
  {
   "cell_type": "code",
   "execution_count": 3,
   "id": "294bff76",
   "metadata": {},
   "outputs": [
    {
     "ename": "UnboundLocalError",
     "evalue": "local variable 'num' referenced before assignment",
     "output_type": "error",
     "traceback": [
      "\u001b[1;31m---------------------------------------------------------------------------\u001b[0m",
      "\u001b[1;31mUnboundLocalError\u001b[0m                         Traceback (most recent call last)",
      "\u001b[1;32m~\\AppData\\Local\\Temp/ipykernel_4680/632807564.py\u001b[0m in \u001b[0;36m<module>\u001b[1;34m\u001b[0m\n\u001b[0;32m      5\u001b[0m     \u001b[0mnum\u001b[0m \u001b[1;33m+=\u001b[0m \u001b[1;36m1\u001b[0m\u001b[1;33m\u001b[0m\u001b[1;33m\u001b[0m\u001b[0m\n\u001b[0;32m      6\u001b[0m \u001b[1;33m\u001b[0m\u001b[0m\n\u001b[1;32m----> 7\u001b[1;33m \u001b[0mprintNum\u001b[0m\u001b[1;33m(\u001b[0m\u001b[1;33m)\u001b[0m\u001b[1;33m\u001b[0m\u001b[1;33m\u001b[0m\u001b[0m\n\u001b[0m",
      "\u001b[1;32m~\\AppData\\Local\\Temp/ipykernel_4680/632807564.py\u001b[0m in \u001b[0;36mprintNum\u001b[1;34m()\u001b[0m\n\u001b[0;32m      2\u001b[0m \u001b[1;32mdef\u001b[0m \u001b[0mprintNum\u001b[0m\u001b[1;33m(\u001b[0m\u001b[1;33m)\u001b[0m\u001b[1;33m:\u001b[0m\u001b[1;33m\u001b[0m\u001b[1;33m\u001b[0m\u001b[0m\n\u001b[0;32m      3\u001b[0m \u001b[1;33m\u001b[0m\u001b[0m\n\u001b[1;32m----> 4\u001b[1;33m     \u001b[0mprint\u001b[0m\u001b[1;33m(\u001b[0m\u001b[0mnum\u001b[0m\u001b[1;33m)\u001b[0m\u001b[1;33m\u001b[0m\u001b[1;33m\u001b[0m\u001b[0m\n\u001b[0m\u001b[0;32m      5\u001b[0m     \u001b[0mnum\u001b[0m \u001b[1;33m+=\u001b[0m \u001b[1;36m1\u001b[0m\u001b[1;33m\u001b[0m\u001b[1;33m\u001b[0m\u001b[0m\n\u001b[0;32m      6\u001b[0m \u001b[1;33m\u001b[0m\u001b[0m\n",
      "\u001b[1;31mUnboundLocalError\u001b[0m: local variable 'num' referenced before assignment"
     ]
    }
   ],
   "source": [
    "num = 10\n",
    "def printNum():\n",
    "    \n",
    "    print(num)\n",
    "    num += 1\n",
    "\n",
    "printNum()"
   ]
  },
  {
   "cell_type": "code",
   "execution_count": null,
   "id": "022bef19",
   "metadata": {},
   "outputs": [],
   "source": []
  }
 ],
 "metadata": {
  "kernelspec": {
   "display_name": "Python 3 (ipykernel)",
   "language": "python",
   "name": "python3"
  },
  "language_info": {
   "codemirror_mode": {
    "name": "ipython",
    "version": 3
   },
   "file_extension": ".py",
   "mimetype": "text/x-python",
   "name": "python",
   "nbconvert_exporter": "python",
   "pygments_lexer": "ipython3",
   "version": "3.9.7"
  }
 },
 "nbformat": 4,
 "nbformat_minor": 5
}
